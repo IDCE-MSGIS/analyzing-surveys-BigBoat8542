{
  "nbformat": 4,
  "nbformat_minor": 0,
  "metadata": {
    "colab": {
      "name": "CompProg1.ipynb",
      "provenance": [],
      "authorship_tag": "ABX9TyMZ4kD/t6lytOce46EvgDPe",
      "include_colab_link": true
    },
    "kernelspec": {
      "name": "python3",
      "display_name": "Python 3"
    },
    "language_info": {
      "name": "python"
    }
  },
  "cells": [
    {
      "cell_type": "markdown",
      "metadata": {
        "id": "view-in-github",
        "colab_type": "text"
      },
      "source": [
        "<a href=\"https://colab.research.google.com/github/IDCE-MSGIS/analyzing-surveys-BigBoat8542/blob/main/CompProg1.ipynb\" target=\"_parent\"><img src=\"https://colab.research.google.com/assets/colab-badge.svg\" alt=\"Open In Colab\"/></a>"
      ]
    },
    {
      "cell_type": "markdown",
      "metadata": {
        "id": "UDcd3GjhP7Hl"
      },
      "source": [
        "\n",
        "\n",
        "```\n",
        "#Luke Watson-Sharer\n",
        "#Lab 1\n",
        "```\n"
      ]
    },
    {
      "cell_type": "code",
      "metadata": {
        "id": "DR9hv5Hheqio"
      },
      "source": [
        "#Rewrite the code above as a function where you specify an argument with the name of the county you want to count votes for, and \n",
        "#the function returns the number of votes for that particular county. Your code should be well commented to explain what the different parts of the code are doing.\n",
        "\n",
        "def countVote(Nairobi):\n",
        "  print(\"Counting votes for \",Nairobi,\":\") \n",
        "  count = 0 \n",
        "  with open(\"KEcounty_votes.txt\") as file: \n",
        "    for line in file: \n",
        "      line = line.strip() \n",
        "      name, vote = line.split(\" - \") \n",
        "      if vote == Nairobi: \n",
        "        count = count + 1 \n",
        "  print(count)\n",
        "\n",
        "\n",
        "\n"
      ],
      "execution_count": 4,
      "outputs": []
    },
    {
      "cell_type": "code",
      "metadata": {
        "id": "rT7u9p7eYKZR"
      },
      "source": [
        "# functions by Luke\n",
        "from google.colab import files\n",
        "uploaded = files.upload()\n",
        "#The script should print the number of votes cast for each county. And, as usual, it should be well commented to explain what the different sections of code do.\n",
        "\n",
        "count = 0 #where to begin counting from for iteration\n",
        "counts = {} # empty dictinary to store county names with votes\n",
        "voted = [] # track voters\n",
        "\n",
        "def mungeCheckVote(file):\n",
        "  munge = file.strip().capitalize().replace(\"  \",\" \") # cleans the format of the file\n",
        "  return munge # returns cleaned version\n",
        "\n",
        "def duplicateVotes(voteData): # counting the votes, if it's in the array, print the vote\n",
        "  if voteData in  voted:\n",
        "    print(voteData + \"has already voted\")\n",
        "    return True\n",
        "  else: \n",
        "    return False\n",
        "\n",
        "def countVote(county): # count the votes in each county\n",
        "  if county not in counts:\n",
        "      # First vote for this variety\n",
        "      counts[county] = 1\n",
        "  else:\n",
        "      # Increment the vote count\n",
        "      counts[county] += 1\n",
        "\n",
        "with open(\"KEcounty_votes.txt\") as file:\n",
        "  for line in file:\n",
        "    line = line.strip()\n",
        "    name, vote = line.split(\" - \")\n",
        "    name = mungeCheckVote(name) # cleaned data\n",
        "    vote = mungeCheckVote(vote) \n",
        "    if not duplicateVotes(name):\n",
        "      countVote(vote)\n",
        "      voted.append(name)\n",
        "\n",
        "print(\"Results:\")\n",
        "print()\n",
        "for name in counts:\n",
        "  print(name + \": \" + str(counts[name]))\n",
        "\n",
        "# 1 clean up (munge) a string to make it easy to match against\n",
        "# 2 check if someone has voted before, and\n",
        "# 3 count a vote\n",
        "\n"
      ],
      "execution_count": null,
      "outputs": []
    }
  ]
}